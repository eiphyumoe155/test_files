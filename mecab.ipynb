{
 "cells": [
  {
   "cell_type": "code",
   "execution_count": 5,
   "metadata": {},
   "outputs": [
    {
     "name": "stdout",
     "output_type": "stream",
     "text": [
      "日本 語 の 文章 を 分かち書き し たい 。 \n",
      "\n"
     ]
    }
   ],
   "source": [
    "import MeCab\n",
    "text = \"日本語の文章を分かち書きしたい。\"\n",
    "mecab_wakati = MeCab.Tagger(\"-Owakati\")\n",
    "print(mecab_wakati.parse(text))"
   ]
  },
  {
   "cell_type": "code",
   "execution_count": 6,
   "metadata": {},
   "outputs": [],
   "source": [
    "import numpy as np\n",
    "from janome.tokenizer import Tokenizer"
   ]
  },
  {
   "cell_type": "code",
   "execution_count": 9,
   "metadata": {},
   "outputs": [
    {
     "name": "stdout",
     "output_type": "stream",
     "text": [
      "['日本語', 'の', '文章', 'を', '分かち書き', 'し', 'たい', '。']\n"
     ]
    }
   ],
   "source": [
    "t = Tokenizer()\n",
    "tokens = t.tokenize(text)\n",
    "docs = []\n",
    "for token in tokens:\n",
    "    docs.append(token.surface)\n",
    "print(docs)"
   ]
  },
  {
   "cell_type": "code",
   "execution_count": 10,
   "metadata": {},
   "outputs": [],
   "source": [
    "def wakachi_mecab(text):\n",
    "    tagger = MeCab.Tagger('-Owakati')\n",
    "    docs = tagger.parse(text).split()\n",
    "    return docs\n"
   ]
  },
  {
   "cell_type": "code",
   "execution_count": 11,
   "metadata": {},
   "outputs": [],
   "source": [
    "def wakachi(text):\n",
    "    \n",
    "    t = Tokenizer()\n",
    "    tokens = t.tokenize(text)\n",
    "    docs=[]\n",
    "    for token in tokens:\n",
    "        docs.append(token.surface)\n",
    "    return docs"
   ]
  },
  {
   "cell_type": "code",
   "execution_count": 12,
   "metadata": {},
   "outputs": [],
   "source": [
    "def vecs_array(documents):\n",
    "    from sklearn.feature_extraction.text import TfidfVectorizer\n",
    " \n",
    "    docs = np.array(documents)\n",
    "    vectorizer = TfidfVectorizer(analyzer=wakachi_mecab,binary=True,use_idf=False)\n",
    "    vecs = vectorizer.fit_transform(docs)\n",
    "    return vecs.toarray()"
   ]
  },
  {
   "cell_type": "code",
   "execution_count": 13,
   "metadata": {},
   "outputs": [
    {
     "name": "stdout",
     "output_type": "stream",
     "text": [
      "[[1.   0.63]\n",
      " [0.63 1.  ]]\n"
     ]
    }
   ],
   "source": [
    "from sklearn.metrics.pairwise import cosine_similarity\n",
    "docs = [\n",
    "\"父は週末には仕事をしません。\", \n",
    "\"彼女は週末にしか働きません。\"\n",
    "]\n",
    "\n",
    "cs_array = np.round(cosine_similarity(vecs_array(docs), vecs_array(docs)),2)\n",
    "print(cs_array)"
   ]
  },
  {
   "cell_type": "code",
   "execution_count": null,
   "metadata": {},
   "outputs": [],
   "source": []
  }
 ],
 "metadata": {
  "kernelspec": {
   "display_name": "Python 3",
   "language": "python",
   "name": "python3"
  },
  "language_info": {
   "codemirror_mode": {
    "name": "ipython",
    "version": 3
   },
   "file_extension": ".py",
   "mimetype": "text/x-python",
   "name": "python",
   "nbconvert_exporter": "python",
   "pygments_lexer": "ipython3",
   "version": "3.10.9"
  },
  "orig_nbformat": 4
 },
 "nbformat": 4,
 "nbformat_minor": 2
}
