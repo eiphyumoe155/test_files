{
 "cells": [
  {
   "cell_type": "code",
   "execution_count": 1,
   "metadata": {},
   "outputs": [],
   "source": [
    "import mlflow\n",
    "from tensorflow.keras.layers import Input, Lambda, Dense, Flatten,Dropout\n",
    "from tensorflow.keras.models import Model\n",
    "from tensorflow.keras.applications.vgg19 import VGG19\n",
    "from tensorflow.keras.applications.vgg19 import preprocess_input\n",
    "from tensorflow.keras.preprocessing import image\n",
    "from tensorflow.keras.preprocessing.image import ImageDataGenerator\n",
    "from tensorflow.keras.models import Sequential\n",
    "from mlflow.tracking import MlflowClient\n",
    "import numpy as np\n",
    "import pandas as pd\n",
    "import os\n",
    "import cv2\n",
    "import matplotlib.pyplot as plt\n",
    "import imutils\n",
    "from mlflow import MlflowClient"
   ]
  },
  {
   "cell_type": "code",
   "execution_count": 2,
   "metadata": {},
   "outputs": [],
   "source": [
    "import os\n",
    "os.environ['GOOGLE_APPLICATION_CREDENTIALS'] = r'C:\\Users\\Clsm\\Documents\\GitHub\\telerehab_ai\\credentials\\serviceAccount.json'"
   ]
  },
  {
   "cell_type": "code",
   "execution_count": 3,
   "metadata": {},
   "outputs": [],
   "source": [
    "MLFLOW_TRACKING_URI = 'http://34.173.115.10:8888'"
   ]
  },
  {
   "cell_type": "code",
   "execution_count": 4,
   "metadata": {},
   "outputs": [
    {
     "data": {
      "text/plain": [
       "<Experiment: artifact_location='gs://aiteam-mlflow-storage-bucket/models/22', creation_time=1679988551551, experiment_id='22', last_update_time=1679988551551, lifecycle_stage='active', name='epm_test', tags={}>"
      ]
     },
     "execution_count": 4,
     "metadata": {},
     "output_type": "execute_result"
    }
   ],
   "source": [
    "mlflow.set_tracking_uri(MLFLOW_TRACKING_URI)\n",
    "mlflow.set_experiment(\"epm_test\")"
   ]
  },
  {
   "cell_type": "code",
   "execution_count": 2,
   "metadata": {},
   "outputs": [],
   "source": [
    "#mlflow.set_tracking_uri(\"http://34.173.115.10:8888\")\n",
    "#mlflow.set_tracking_uri(\"sqlite:///mlflow.db\")"
   ]
  },
  {
   "attachments": {},
   "cell_type": "markdown",
   "metadata": {},
   "source": [
    "## Loading Datasets"
   ]
  },
  {
   "cell_type": "code",
   "execution_count": 5,
   "metadata": {},
   "outputs": [],
   "source": [
    "train_dir = r'C:\\Users\\Clsm\\fruit_dataset\\train'\n",
    "test_dir = r'C:\\Users\\Clsm\\fruit_dataset\\test'"
   ]
  },
  {
   "cell_type": "code",
   "execution_count": 6,
   "metadata": {},
   "outputs": [],
   "source": [
    "train_datagen = ImageDataGenerator(rescale= 1./255)\n",
    "test_datagen = ImageDataGenerator(rescale= 1./255)"
   ]
  },
  {
   "cell_type": "code",
   "execution_count": 7,
   "metadata": {},
   "outputs": [
    {
     "name": "stdout",
     "output_type": "stream",
     "text": [
      "Found 2301 images belonging to 10 classes.\n",
      "Found 1025 images belonging to 10 classes.\n"
     ]
    }
   ],
   "source": [
    "batch_size = 16\n",
    "train_set = train_datagen.flow_from_directory(train_dir,\n",
    "                                            target_size= (100,100),\n",
    "                                            batch_size = batch_size,\n",
    "                                            class_mode = 'categorical')\n",
    "test_set = test_datagen.flow_from_directory(test_dir,\n",
    "                                            target_size = (100,100),\n",
    "                                            batch_size = batch_size,\n",
    "                                            class_mode = 'categorical')"
   ]
  },
  {
   "attachments": {},
   "cell_type": "markdown",
   "metadata": {},
   "source": [
    "## Model Creating"
   ]
  },
  {
   "cell_type": "code",
   "execution_count": 8,
   "metadata": {},
   "outputs": [],
   "source": [
    "IMAGE_SIZE = [100,100]\n",
    "vgg = VGG19(input_shape=IMAGE_SIZE + [3], weights='imagenet', include_top=False)\n",
    "#do not train the pre-trained layers of VGG-19\n",
    "for layer in vgg.layers:\n",
    "    layer.trainable = False\n",
    "x = Flatten()(vgg.output)\n",
    "#adding output layer.Softmax classifier is used as it is multi-class classification\n",
    "prediction = Dense(10, activation='softmax')(x)\n",
    "\n",
    "model = Model(inputs=vgg.input, outputs=prediction)"
   ]
  },
  {
   "cell_type": "code",
   "execution_count": 9,
   "metadata": {},
   "outputs": [],
   "source": [
    "model.compile(\n",
    "  loss='categorical_crossentropy',\n",
    "  optimizer=\"adam\",\n",
    "  metrics=['accuracy']\n",
    ")"
   ]
  },
  {
   "attachments": {},
   "cell_type": "markdown",
   "metadata": {},
   "source": [
    "## Model train and save in ML flow"
   ]
  },
  {
   "cell_type": "code",
   "execution_count": 11,
   "metadata": {},
   "outputs": [
    {
     "name": "stderr",
     "output_type": "stream",
     "text": [
      "2023/03/29 09:51:56 WARNING mlflow.utils.autologging_utils: You are using an unsupported version of sklearn. If you encounter errors during autologging, try upgrading / downgrading sklearn to a supported version, or try upgrading MLflow.\n"
     ]
    },
    {
     "name": "stdout",
     "output_type": "stream",
     "text": [
      "INFO:tensorflow:Assets written to: C:\\Users\\Clsm\\AppData\\Local\\Temp\\tmpv4adjev4\\model\\data\\model\\assets\n",
      "144/144 [==============================] - 269s 2s/step - loss: 0.9541 - accuracy: 0.7058\n"
     ]
    }
   ],
   "source": [
    "import mlflow.keras\n",
    "mlflow.sklearn.autolog()\n",
    "with mlflow.start_run() as run:\n",
    "    mlflow.set_tag(\"developer\", \"epm\")\n",
    "    mlflow.set_tag(\"version\", \"prerelease\")\n",
    "\n",
    "    mlflow.log_param('dataset' , 'fruit_classification')\n",
    "    mlflow.log_param('train_amount', '2301images')\n",
    "    mlflow.log_param('test_amount', '1025images')\n",
    "    mlflow.keras.log_model(model, artifact_path=\"model\")\n",
    "    history = model.fit(train_set, batch_size = batch_size, epochs= 1)\n",
    "    mlflow.log_metric('train_loss', history.history['loss'][-1])\n",
    "    mlflow.log_metric('train_acc', history.history['accuracy'][-1])"
   ]
  },
  {
   "attachments": {},
   "cell_type": "markdown",
   "metadata": {},
   "source": [
    "## Creating Model Version"
   ]
  },
  {
   "cell_type": "code",
   "execution_count": 12,
   "metadata": {},
   "outputs": [
    {
     "name": "stderr",
     "output_type": "stream",
     "text": [
      "2023/03/29 09:59:51 INFO mlflow.tracking._model_registry.client: Waiting up to 300 seconds for model version to finish creation.                     Model name: test, version 6\n"
     ]
    },
    {
     "name": "stdout",
     "output_type": "stream",
     "text": [
      "model version 6 created\n"
     ]
    }
   ],
   "source": [
    "run_id = run.info.run_id\n",
    "name = \"test\"\n",
    "client = MlflowClient(tracking_uri= MLFLOW_TRACKING_URI)\n",
    "model_uri = \"runs:/{}/model\".format(run_id)\n",
    "mv = client.create_model_version(name, model_uri, run_id)\n",
    "print(\"model version {} created\".format(mv.version))"
   ]
  },
  {
   "cell_type": "code",
   "execution_count": 13,
   "metadata": {},
   "outputs": [],
   "source": [
    "client.delete_model_version(name, version='2')"
   ]
  },
  {
   "attachments": {},
   "cell_type": "markdown",
   "metadata": {},
   "source": [
    "## Creating another version"
   ]
  },
  {
   "cell_type": "code",
   "execution_count": 14,
   "metadata": {},
   "outputs": [
    {
     "name": "stdout",
     "output_type": "stream",
     "text": [
      "Epoch 1/2\n",
      "144/144 [==============================] - 245s 2s/step - loss: 0.9351 - accuracy: 0.7093\n",
      "Epoch 2/2\n",
      "144/144 [==============================] - 240s 2s/step - loss: 0.7242 - accuracy: 0.7705\n"
     ]
    },
    {
     "name": "stderr",
     "output_type": "stream",
     "text": [
      "2023/03/28 14:41:10 WARNING mlflow.tensorflow: Failed to infer model signature: could not sample data to infer model signature: '>=' not supported between instances of 'slice' and 'int'\n"
     ]
    },
    {
     "name": "stdout",
     "output_type": "stream",
     "text": [
      "INFO:tensorflow:Assets written to: C:\\Users\\Clsm\\AppData\\Local\\Temp\\tmpm2_hktzh\\model\\data\\model\\assets\n",
      "INFO:tensorflow:Assets written to: ram://7041d754-6369-4f72-a6c7-cff4f274bd58/assets\n"
     ]
    },
    {
     "name": "stderr",
     "output_type": "stream",
     "text": [
      "2023/03/28 14:41:49 WARNING mlflow.sklearn: Model was missing function: predict. Not logging python_function flavor!\n",
      "2023/03/28 14:41:59 WARNING mlflow.utils.environment: Encountered an unexpected error while inferring pip requirements (model URI: C:\\Users\\Clsm\\AppData\\Local\\Temp\\tmpw96vm2dc\\model\\model.pkl, flavor: sklearn), fall back to return ['scikit-learn==1.2.0', 'cloudpickle==2.2.0']. Set logging level to DEBUG to see the full traceback.\n",
      "Registered model 'test' already exists. Creating a new version of this model...\n",
      "2023/03/28 14:42:08 INFO mlflow.tracking._model_registry.client: Waiting up to 300 seconds for model version to finish creation.                     Model name: test, version 3\n",
      "Created version '3' of model 'test'.\n"
     ]
    },
    {
     "data": {
      "text/plain": [
       "<ModelVersion: creation_timestamp=1679991132722, current_stage='None', description='', last_updated_timestamp=1679991132722, name='test', run_id='1b25ddd9e6bf498593b093e230fb3e95', run_link='', source='gs://aiteam-mlflow-storage-bucket/models/22/1b25ddd9e6bf498593b093e230fb3e95/artifacts/model', status='READY', status_message='', tags={}, user_id='', version='3'>"
      ]
     },
     "execution_count": 14,
     "metadata": {},
     "output_type": "execute_result"
    }
   ],
   "source": [
    "with mlflow.start_run() as run1:\n",
    "    hist = model.fit(train_set, epochs=2, batch_size = 32)\n",
    "    mlflow.sklearn.log_model(hist, artifact_path=\"model\")\n",
    "\n",
    "model_uri = f\"runs:/{run_id}/model\"\n",
    "mlflow.register_model(model_uri=model_uri,name=name)"
   ]
  },
  {
   "cell_type": "code",
   "execution_count": 13,
   "metadata": {},
   "outputs": [],
   "source": [
    "client = MlflowClient(tracking_uri= MLFLOW_TRACKING_URI)\n",
    "name = 'test'"
   ]
  },
  {
   "cell_type": "code",
   "execution_count": 14,
   "metadata": {},
   "outputs": [
    {
     "name": "stdout",
     "output_type": "stream",
     "text": [
      "version:1, stage:Staging\n",
      "version:3, stage:Production\n",
      "version:6, stage:None\n"
     ]
    }
   ],
   "source": [
    "model_versions = client.get_latest_versions(name= name)\n",
    "for version in model_versions:\n",
    "    print(f\"version:{version.version}, stage:{version.current_stage}\")"
   ]
  },
  {
   "cell_type": "code",
   "execution_count": 15,
   "metadata": {},
   "outputs": [
    {
     "data": {
      "text/plain": [
       "<ModelVersion: creation_timestamp=1680060596735, current_stage='Archived', description='', last_updated_timestamp=1680060644764, name='test', run_id='b4f5b0cd1b144c26b892cc3859f51d16', run_link='', source='runs:/b4f5b0cd1b144c26b892cc3859f51d16/model', status='READY', status_message='', tags={}, user_id='', version='6'>"
      ]
     },
     "execution_count": 15,
     "metadata": {},
     "output_type": "execute_result"
    }
   ],
   "source": [
    "new_stage = 'Archived'\n",
    "model_version = 6\n",
    "client.transition_model_version_stage(\n",
    "    name = name,\n",
    "    version = model_version,\n",
    "    stage = new_stage,\n",
    "    archive_existing_versions=False\n",
    ")"
   ]
  },
  {
   "cell_type": "code",
   "execution_count": 16,
   "metadata": {},
   "outputs": [],
   "source": [
    "artifact = []\n",
    "def fetch_logged_data(run_id):\n",
    "    client = MlflowClient()\n",
    "    data = client.get_run(run_id).data\n",
    "    tags = {k: v for k, v in data.tags.items() if not k.startswith(\"mlflow.\")}\n",
    "    #artifacts = [f.path for f in client.list_artifacts(run_id,'fruits-model_test1')]\n",
    "    for f in client.list_artifacts(run_id,'model'):\n",
    "        artifact.append(f.path)\n",
    "    return data.params, data.metrics, tags, artifact\n",
    "params, metrics, tags, artifact = fetch_logged_data(run_id=run_id)"
   ]
  },
  {
   "cell_type": "code",
   "execution_count": 17,
   "metadata": {},
   "outputs": [
    {
     "name": "stdout",
     "output_type": "stream",
     "text": [
      "['model/MLmodel',\n",
      " 'model/conda.yaml',\n",
      " 'model/data',\n",
      " 'model/python_env.yaml',\n",
      " 'model/requirements.txt']\n"
     ]
    }
   ],
   "source": [
    "from pprint import pprint\n",
    "pprint(artifact)"
   ]
  },
  {
   "attachments": {},
   "cell_type": "markdown",
   "metadata": {},
   "source": [
    "## Model loading and evaluation"
   ]
  },
  {
   "cell_type": "code",
   "execution_count": 18,
   "metadata": {},
   "outputs": [
    {
     "data": {
      "text/plain": [
       "'gs://aiteam-mlflow-storage-bucket/models/22/b4f5b0cd1b144c26b892cc3859f51d16/artifacts/model'"
      ]
     },
     "execution_count": 18,
     "metadata": {},
     "output_type": "execute_result"
    }
   ],
   "source": [
    "from mlflow.store.artifact.runs_artifact_repo import RunsArtifactRepository\n",
    "runs_uri = f\"runs:/{run.info.run_id}/model\"\n",
    "model_src = RunsArtifactRepository.get_underlying_uri(runs_uri)\n",
    "model_src"
   ]
  },
  {
   "cell_type": "code",
   "execution_count": 23,
   "metadata": {},
   "outputs": [],
   "source": [
    "def test_model(name, stage, test_gen,):\n",
    "    model_path = f\"models:/{name}/{stage}\"\n",
    "    tf_model = mlflow.keras.load_model(model_path)\n",
    "\n",
    "    results = tf_model.evaluate(test_gen , batch_size=batch_size)\n",
    "\n",
    "    return {\"test_loss\": results[0],\"test_acc\" : results[1]}"
   ]
  },
  {
   "cell_type": "code",
   "execution_count": 24,
   "metadata": {},
   "outputs": [
    {
     "name": "stdout",
     "output_type": "stream",
     "text": [
      "65/65 [==============================] - 122s 2s/step - loss: 1.9071 - accuracy: 0.4663\n",
      "Wall time: 2min 34s\n"
     ]
    },
    {
     "data": {
      "text/plain": [
       "{'test_loss': 1.9071025848388672, 'test_acc': 0.46634146571159363}"
      ]
     },
     "execution_count": 24,
     "metadata": {},
     "output_type": "execute_result"
    }
   ],
   "source": [
    "%time test_model(name='test', stage=\"Archived\",test_gen=test_set)"
   ]
  }
 ],
 "metadata": {
  "kernelspec": {
   "display_name": "Python 3",
   "language": "python",
   "name": "python3"
  },
  "language_info": {
   "codemirror_mode": {
    "name": "ipython",
    "version": 3
   },
   "file_extension": ".py",
   "mimetype": "text/x-python",
   "name": "python",
   "nbconvert_exporter": "python",
   "pygments_lexer": "ipython3",
   "version": "3.8.10"
  },
  "orig_nbformat": 4
 },
 "nbformat": 4,
 "nbformat_minor": 2
}
