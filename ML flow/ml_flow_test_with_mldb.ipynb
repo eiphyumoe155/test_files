{
 "cells": [
  {
   "cell_type": "code",
   "execution_count": 4,
   "metadata": {},
   "outputs": [
    {
     "name": "stderr",
     "output_type": "stream",
     "text": [
      "2023/03/16 10:41:16 WARNING mlflow.utils.autologging_utils: You are using an unsupported version of sklearn. If you encounter errors during autologging, try upgrading / downgrading sklearn to a supported version, or try upgrading MLflow.\n",
      "c:\\Users\\Clsm\\AppData\\Local\\Programs\\Python\\Python38\\lib\\site-packages\\sklearn\\metrics\\_regression.py:918: UndefinedMetricWarning: R^2 score is not well-defined with less than two samples.\n",
      "  warnings.warn(msg, UndefinedMetricWarning)\n",
      "c:\\Users\\Clsm\\AppData\\Local\\Programs\\Python\\Python38\\lib\\site-packages\\sklearn\\metrics\\_regression.py:918: UndefinedMetricWarning: R^2 score is not well-defined with less than two samples.\n",
      "  warnings.warn(msg, UndefinedMetricWarning)\n",
      "2023/03/16 10:41:17 WARNING mlflow.sklearn: Failed to infer model signature: Expected one of (pandas.DataFrame, numpy array, dictionary of (name -> numpy.ndarray), pyspark.sql.DataFrame) but got '<class 'list'>'\n",
      "c:\\Users\\Clsm\\AppData\\Local\\Programs\\Python\\Python38\\lib\\site-packages\\sklearn\\metrics\\_regression.py:918: UndefinedMetricWarning: R^2 score is not well-defined with less than two samples.\n",
      "  warnings.warn(msg, UndefinedMetricWarning)\n",
      "c:\\Users\\Clsm\\AppData\\Local\\Programs\\Python\\Python38\\lib\\site-packages\\sklearn\\metrics\\_regression.py:918: UndefinedMetricWarning: R^2 score is not well-defined with less than two samples.\n",
      "  warnings.warn(msg, UndefinedMetricWarning)\n",
      "2023/03/16 10:41:27 WARNING mlflow.sklearn: Failed to infer model signature: Expected one of (pandas.DataFrame, numpy array, dictionary of (name -> numpy.ndarray), pyspark.sql.DataFrame) but got '<class 'list'>'\n",
      "2023/03/16 10:41:37 INFO mlflow.tracking._model_registry.client: Waiting up to 300 seconds for model version to finish creation.                     Model name: RandomForestRegression_test, version 1\n",
      "2023/03/16 10:41:37 INFO mlflow.tracking._model_registry.client: Waiting up to 300 seconds for model version to finish creation.                     Model name: RandomForestRegression_test, version 2\n"
     ]
    },
    {
     "name": "stdout",
     "output_type": "stream",
     "text": [
      "model version 1 created\n",
      "model version 2 created\n"
     ]
    }
   ],
   "source": [
    "import mlflow.sklearn\n",
    "from mlflow.store.artifact.runs_artifact_repo import RunsArtifactRepository\n",
    "from mlflow import MlflowClient\n",
    "from sklearn.ensemble import RandomForestRegressor\n",
    "\n",
    "mlflow.set_tracking_uri(\"sqlite:///mlruns.db\")\n",
    "\n",
    "def print_models_info(mv):\n",
    "    for m in mv:\n",
    "        print(\"name: {}\".format(m.name))\n",
    "        print(\"latest version: {}\".format(m.version))\n",
    "        print(\"run_id: {}\".format(m.run_id))\n",
    "        print(\"current_stage: {}\".format(m.current_stage))\n",
    "\n",
    "mlflow.sklearn.autolog()\n",
    "with mlflow.start_run() as run1:\n",
    "    params = {\"n_estimators\": 3, \"random_state\": 42}\n",
    "    rfr = RandomForestRegressor(**params).fit([[0, 1]], [1])\n",
    "    mlflow.log_params(params)\n",
    "    mlflow.sklearn.log_model(rfr, artifact_path=\"sklearn-model_test\")\n",
    "\n",
    "with mlflow.start_run() as run2:\n",
    "    params = {\"n_estimators\": 6, \"random_state\": 42}\n",
    "    rfr = RandomForestRegressor(**params).fit([[0, 1]], [1])\n",
    "    mlflow.log_params(params)\n",
    "    mlflow.sklearn.log_model(rfr, artifact_path=\"sklearn-model_test\")\n",
    "\n",
    "# Register model name in the model registry\n",
    "name = \"RandomForestRegression_test\"\n",
    "client = MlflowClient()\n",
    "client.create_registered_model(name)\n",
    "\n",
    "for run_id in [run1.info.run_id, run2.info.run_id]:\n",
    "    model_uri = \"runs:/{}/sklearn-model\".format(run_id)\n",
    "    mv = client.create_model_version(name, model_uri, run_id)\n",
    "    print(\"model version {} created\".format(mv.version))"
   ]
  },
  {
   "cell_type": "code",
   "execution_count": 6,
   "metadata": {},
   "outputs": [
    {
     "name": "stdout",
     "output_type": "stream",
     "text": [
      "2\n"
     ]
    }
   ],
   "source": [
    "model_versions = client.get_latest_versions(name)\n",
    "for version in model_versions:\n",
    "    print(version.version)"
   ]
  },
  {
   "cell_type": "code",
   "execution_count": 13,
   "metadata": {},
   "outputs": [],
   "source": [
    "model_src = model_versions[0].source"
   ]
  },
  {
   "cell_type": "code",
   "execution_count": 9,
   "metadata": {},
   "outputs": [
    {
     "data": {
      "text/plain": [
       "'9fb1c844a2e845d2b88872a5495d50b8'"
      ]
     },
     "execution_count": 9,
     "metadata": {},
     "output_type": "execute_result"
    }
   ],
   "source": [
    "run_id = model_versions[0].run_id"
   ]
  },
  {
   "cell_type": "code",
   "execution_count": 15,
   "metadata": {},
   "outputs": [],
   "source": [
    "runs_uri = \"runs:/{}/sklearn-model\".format(run2.info.run_id)\n",
    "model_src = RunsArtifactRepository.get_underlying_uri(runs_uri)"
   ]
  },
  {
   "cell_type": "code",
   "execution_count": 18,
   "metadata": {},
   "outputs": [
    {
     "data": {
      "text/plain": [
       "'./mlruns/0/9fb1c844a2e845d2b88872a5495d50b8/artifacts/sklearn-model'"
      ]
     },
     "execution_count": 18,
     "metadata": {},
     "output_type": "execute_result"
    }
   ],
   "source": [
    "model_src"
   ]
  }
 ],
 "metadata": {
  "kernelspec": {
   "display_name": "Python 3",
   "language": "python",
   "name": "python3"
  },
  "language_info": {
   "codemirror_mode": {
    "name": "ipython",
    "version": 3
   },
   "file_extension": ".py",
   "mimetype": "text/x-python",
   "name": "python",
   "nbconvert_exporter": "python",
   "pygments_lexer": "ipython3",
   "version": "3.8.10"
  },
  "orig_nbformat": 4
 },
 "nbformat": 4,
 "nbformat_minor": 2
}
