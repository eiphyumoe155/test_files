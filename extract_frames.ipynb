{
 "cells": [
  {
   "cell_type": "code",
   "execution_count": 175,
   "metadata": {},
   "outputs": [],
   "source": [
    "from imutils.video import  WebcamVideoStream\n",
    "import cv2\n",
    "from imutils.video import FPS\n",
    "from datetime import timedelta\n",
    "import numpy as np"
   ]
  },
  {
   "cell_type": "code",
   "execution_count": 176,
   "metadata": {},
   "outputs": [],
   "source": [
    "def format_timedelta(td):\n",
    "    \"\"\"Utility function to format timedelta objects in a cool way (e.g 00:00:20.05) \n",
    "    omitting microseconds and retaining milliseconds\"\"\"\n",
    "    result = str(td)\n",
    "    try:\n",
    "        result, ms = result.split(\".\")\n",
    "    except ValueError:\n",
    "        return result + \".00\".replace(\":\", \"-\")\n",
    "    ms = int(ms)\n",
    "    ms = round(ms / 1e4)\n",
    "    return f\"{result}.{ms:02}\".replace(\":\", \"-\")\n",
    "\n",
    "\n",
    "def get_saving_frames_durations(cap, saving_fps):\n",
    "    \"\"\"A function that returns the list of durations where to save the frames\"\"\"\n",
    "    s = []\n",
    "    # get the clip duration by dividing number of frames by the number of frames per second\n",
    "    #clip_duration = cap.stream.get(cv2.CAP_PROP_FRAME_COUNT) / cap.stream.get(cv2.CAP_PROP_FPS)\n",
    "    clip_duration = cap.get(cv2.CAP_PROP_FRAME_COUNT) / cap.get(cv2.CAP_PROP_FPS)\n",
    "    # use np.arange() to make floating-point steps\n",
    "    for i in np.arange(0, clip_duration, 1 / saving_fps):\n",
    "        s.append(i)\n",
    "    return s"
   ]
  },
  {
   "cell_type": "code",
   "execution_count": 177,
   "metadata": {},
   "outputs": [],
   "source": [
    "#cap = WebcamVideoStream('test.mp4').start()\n",
    "cap =cv2.VideoCapture(r'C:\\FFOutput\\tadem_00\\tamdem_00_vd\\IMG_5457.h264.mp4')\n",
    "output_path = 'C:/FFOutput/tadem_00/'\n"
   ]
  },
  {
   "cell_type": "code",
   "execution_count": 178,
   "metadata": {},
   "outputs": [],
   "source": [
    "SAVING_FRAMES_PER_SECOND = 20"
   ]
  },
  {
   "cell_type": "code",
   "execution_count": 179,
   "metadata": {},
   "outputs": [
    {
     "name": "stdout",
     "output_type": "stream",
     "text": [
      "30.0\n",
      "20\n",
      "total frame  419.0\n"
     ]
    }
   ],
   "source": [
    "fps_cus = cap.get(cv2.CAP_PROP_FPS)\n",
    "print(fps_cus)\n",
    "saving_frames_per_second = min(fps_cus, SAVING_FRAMES_PER_SECOND)\n",
    "print(saving_frames_per_second)\n",
    "saving_frames_durations = get_saving_frames_durations(cap, saving_frames_per_second)\n",
    "#print(saving_frames_durations)\n",
    "print(\"total frame \", cap.get(cv2.CAP_PROP_FRAME_COUNT))\n"
   ]
  },
  {
   "cell_type": "code",
   "execution_count": 180,
   "metadata": {},
   "outputs": [],
   "source": [
    "fps = FPS().start()\n",
    "\n",
    "count = 0\n",
    "while True:\n",
    "\n",
    "    ok ,input_frame = cap.read()\n",
    "    \n",
    "    if not ok:\n",
    "        break\n",
    "    \n",
    "    frame_duration = count / fps_cus\n",
    "\n",
    "    #input_frame = cv2.resize(input_frame,(512,512),interpolation=cv2.INTER_AREA)\n",
    "\n",
    "    try:\n",
    "        # get the earliest duration to save\n",
    "        closest_duration = saving_frames_durations[0]\n",
    "    except IndexError:\n",
    "        # the list is empty, all duration frames were saved\n",
    "        break\n",
    "    if frame_duration >= closest_duration:\n",
    "        # if closest duration is less than or equals the frame duration, \n",
    "        # then save the frame\n",
    "        frame_duration_formatted = format_timedelta(timedelta(seconds=frame_duration))      \n",
    "        cv2.imwrite( f\"{output_path}frame_6{frame_duration_formatted}.jpg\", input_frame) \n",
    "        # drop the duration spot from the list, since this duration spot is already saved\n",
    "        try:\n",
    "            saving_frames_durations.pop(0)\n",
    "        except IndexError:\n",
    "            pass\n",
    "    # increment the frame count\n",
    "    count = count+1\n",
    "\n",
    "    #cv2.imwrite(f'{output_path}{i}.jpg', input_frame)\n",
    "    cv2.imshow(\"origin\", input_frame)\n",
    "    cv2.waitKey(1)\n",
    "    \n",
    "    if cv2.waitKey(1) & 0xff ==ord('q'):\n",
    "        break\n",
    "    fps.update()\n",
    "fps.stop()\n",
    "cap.release()\n",
    "cv2.destroyAllWindows()"
   ]
  },
  {
   "cell_type": "code",
   "execution_count": 181,
   "metadata": {},
   "outputs": [
    {
     "name": "stdout",
     "output_type": "stream",
     "text": [
      "[INFO] elasped time: 18.96\n",
      "[INFO] approx. FPS: 22.10\n"
     ]
    }
   ],
   "source": [
    "print(\"[INFO] elasped time: {:.2f}\".format(fps.elapsed()))\n",
    "print(\"[INFO] approx. FPS: {:.2f}\".format(fps.fps()))"
   ]
  },
  {
   "cell_type": "code",
   "execution_count": null,
   "metadata": {},
   "outputs": [],
   "source": []
  },
  {
   "cell_type": "code",
   "execution_count": null,
   "metadata": {},
   "outputs": [],
   "source": []
  }
 ],
 "metadata": {
  "kernelspec": {
   "display_name": "Python 3",
   "language": "python",
   "name": "python3"
  },
  "language_info": {
   "codemirror_mode": {
    "name": "ipython",
    "version": 3
   },
   "file_extension": ".py",
   "mimetype": "text/x-python",
   "name": "python",
   "nbconvert_exporter": "python",
   "pygments_lexer": "ipython3",
   "version": "3.8.10"
  },
  "orig_nbformat": 4,
  "vscode": {
   "interpreter": {
    "hash": "f797ac37034d52c03b308c74c32c2a757b1326bf07c7371d761b7657b50446da"
   }
  }
 },
 "nbformat": 4,
 "nbformat_minor": 2
}
