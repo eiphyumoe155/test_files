{
 "cells": [
  {
   "attachments": {},
   "cell_type": "markdown",
   "metadata": {},
   "source": [
    "## Import test data with data generator"
   ]
  },
  {
   "cell_type": "code",
   "execution_count": 1,
   "metadata": {},
   "outputs": [],
   "source": [
    "import tensorflow as tf\n",
    "from tensorflow.keras.models import load_model\n",
    "import os "
   ]
  },
  {
   "cell_type": "code",
   "execution_count": 2,
   "metadata": {},
   "outputs": [],
   "source": [
    "TEST_DIR = r\"\\\\192.168.100.160\\CloudSource\\CloudSource_share\\tharhtetsan\\open_pose\\ths_training\\sit_stand_dataset\\test\" # path to test folder"
   ]
  },
  {
   "cell_type": "code",
   "execution_count": 3,
   "metadata": {},
   "outputs": [
    {
     "name": "stdout",
     "output_type": "stream",
     "text": [
      "Found 7621 images belonging to 3 classes.\n"
     ]
    }
   ],
   "source": [
    "categories = ['Negative','Sit','Stand']\n",
    "batch_size = 1\n",
    "IMAGE_SIZE = (224, 128)\n",
    "test_datagen = tf.keras.preprocessing.image.ImageDataGenerator(rescale=1./255)\n",
    "\n",
    "test_generator = test_datagen.flow_from_directory(\n",
    "                                TEST_DIR,\n",
    "                                target_size=IMAGE_SIZE,\n",
    "                                color_mode=\"rgb\",\n",
    "                                shuffle = False,\n",
    "                                class_mode='categorical',\n",
    "                                batch_size=batch_size)"
   ]
  },
  {
   "cell_type": "code",
   "execution_count": 4,
   "metadata": {},
   "outputs": [],
   "source": [
    "import numpy as np\n",
    "test_steps_per_epoch = np.math.ceil(test_generator.samples / test_generator.batch_size)"
   ]
  },
  {
   "attachments": {},
   "cell_type": "markdown",
   "metadata": {},
   "source": [
    "#Tensorflow model accuracy"
   ]
  },
  {
   "cell_type": "code",
   "execution_count": 5,
   "metadata": {},
   "outputs": [],
   "source": [
    "tf_model = load_model(r'C:\\Users\\Clsm\\Desktop\\test_files\\cnn_model_with_custom_gen_conv_layer_4.h5')"
   ]
  },
  {
   "cell_type": "code",
   "execution_count": 11,
   "metadata": {},
   "outputs": [
    {
     "name": "stdout",
     "output_type": "stream",
     "text": [
      "TF model Test accuracy : 96.2037962037962\n"
     ]
    }
   ],
   "source": [
    "import numpy as np\n",
    "class_label = ['negative','sit','stand']\n",
    "true_labels = []\n",
    "predicted_labels = []\n",
    "\n",
    "import matplotlib.pyplot as plt\n",
    "\n",
    "count = 0\n",
    "for image,label in test_generator:\n",
    "    \n",
    "    \n",
    "    \n",
    "    predicted_temp = tf_model.predict(image)\n",
    "    for i in range(len(label)):\n",
    "        true_labels.append(class_label[np.argmax(label[i])])\n",
    "        predicted_labels.append(class_label[np.argmax(predicted_temp[i])])\n",
    "        \n",
    "\n",
    "    count = count+1\n",
    "    if count > 1000:\n",
    "        break\n",
    "    \n",
    "test_accuracy = 100 * np.sum(np.array(predicted_labels)==true_labels) / len(predicted_labels)\n",
    "print(\"TF model Test accuracy : {}\".format(test_accuracy))"
   ]
  },
  {
   "attachments": {},
   "cell_type": "markdown",
   "metadata": {},
   "source": [
    "## Tflite model accuracy"
   ]
  },
  {
   "cell_type": "code",
   "execution_count": 7,
   "metadata": {},
   "outputs": [
    {
     "name": "stdout",
     "output_type": "stream",
     "text": [
      "INFO:tensorflow:Assets written to: C:\\Users\\Clsm\\AppData\\Local\\Temp\\tmpw51c03s3\\assets\n"
     ]
    },
    {
     "name": "stderr",
     "output_type": "stream",
     "text": [
      "WARNING:absl:Buffer deduplication procedure will be skipped when flatbuffer library is not properly loaded\n"
     ]
    }
   ],
   "source": [
    "# Convert the model.\n",
    "model = load_model(r'C:\\Users\\Clsm\\Desktop\\test_files\\cnn_model_with_custom_gen_conv_layer_4.h5')\n",
    "converter = tf.lite.TFLiteConverter.from_keras_model(model)\n",
    "tflite_model = converter.convert()\n",
    "\n",
    "# Save the model.\n",
    "with open('sit_stand_cnn.tflite', 'wb') as f:\n",
    "  f.write(tflite_model)"
   ]
  },
  {
   "cell_type": "code",
   "execution_count": 8,
   "metadata": {},
   "outputs": [
    {
     "name": "stdout",
     "output_type": "stream",
     "text": [
      "== Input details ==\n",
      "name: serving_default_conv2d_input:0\n",
      "shape: [  1 224 128   3]\n",
      "type: <class 'numpy.float32'>\n",
      "\n",
      "== Output details ==\n",
      "name: StatefulPartitionedCall:0\n",
      "shape: [1 3]\n",
      "type: <class 'numpy.float32'>\n"
     ]
    }
   ],
   "source": [
    "# Load TFLite model and see some details about input/output\n",
    "import tensorflow as tf\n",
    "tflite_interpreter = tf.lite.Interpreter(model_path=r\"sit_stand_cnn.tflite\")\n",
    "tflite_interpreter.allocate_tensors()\n",
    "\n",
    "input_details = tflite_interpreter.get_input_details()\n",
    "output_details = tflite_interpreter.get_output_details()\n",
    "\n",
    "\n",
    "print(\"== Input details ==\")\n",
    "print(\"name:\", input_details[0]['name'])\n",
    "print(\"shape:\", input_details[0]['shape'])\n",
    "print(\"type:\", input_details[0]['dtype'])\n",
    "\n",
    "print(\"\\n== Output details ==\")\n",
    "print(\"name:\", output_details[0]['name'])\n",
    "print(\"shape:\", output_details[0]['shape'])\n",
    "print(\"type:\", output_details[0]['dtype'])"
   ]
  },
  {
   "cell_type": "code",
   "execution_count": 10,
   "metadata": {},
   "outputs": [
    {
     "name": "stdout",
     "output_type": "stream",
     "text": [
      "TF lite model Test accuracy : 95.2047952047952\n"
     ]
    }
   ],
   "source": [
    "import numpy as np\n",
    "true_labels = []\n",
    "predicted_labels = []\n",
    "class_label = ['negative','sit','stand']\n",
    "\n",
    "count = 0\n",
    "for image,label in test_generator:\n",
    "    \n",
    "    \n",
    "    \n",
    "\n",
    "    for i in range(len(label)):\n",
    "        current_image = image[i]\n",
    "        #print(current_image.shape)\n",
    "        current_image = np.array([current_image])\n",
    "        #print(current_image.shape)\n",
    "        \n",
    "        # Run inference\n",
    "        tflite_interpreter.set_tensor(input_details[0]['index'], current_image)\n",
    "        tflite_interpreter.invoke()\n",
    "        tflite_model_predictions = tflite_interpreter.get_tensor(output_details[0]['index'])\n",
    "        #print(\"Prediction results shape:\", tflite_model_predictions.shape)\n",
    "       \n",
    "        true_labels.append(categories[np.argmax(label[i])])\n",
    "        predicted_labels.append(categories[np.argmax(tflite_model_predictions[0])])\n",
    "        \n",
    "\n",
    "    count = count+1\n",
    "    if count > 1000:\n",
    "        break\n",
    "\n",
    "test_accuracy = 100 * np.sum(np.array(predicted_labels)==true_labels) / len(predicted_labels)\n",
    "print(\"TF lite model Test accuracy : {}\".format(test_accuracy))"
   ]
  }
 ],
 "metadata": {
  "kernelspec": {
   "display_name": "Python 3",
   "language": "python",
   "name": "python3"
  },
  "language_info": {
   "codemirror_mode": {
    "name": "ipython",
    "version": 3
   },
   "file_extension": ".py",
   "mimetype": "text/x-python",
   "name": "python",
   "nbconvert_exporter": "python",
   "pygments_lexer": "ipython3",
   "version": "3.8.10"
  },
  "orig_nbformat": 4
 },
 "nbformat": 4,
 "nbformat_minor": 2
}
