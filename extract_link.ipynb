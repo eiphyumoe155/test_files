{
 "cells": [
  {
   "cell_type": "code",
   "execution_count": 3,
   "metadata": {},
   "outputs": [],
   "source": [
    "import requests\n",
    "import time\n",
    "from selenium import webdriver\n",
    "from bs4 import BeautifulSoup\n",
    "from urllib.request import urlopen\n",
    "from selenium.webdriver.chrome.options import Options\n",
    "from selenium.webdriver.common.proxy import Proxy, ProxyType\n",
    "import random "
   ]
  },
  {
   "cell_type": "code",
   "execution_count": 4,
   "metadata": {},
   "outputs": [],
   "source": [
    "text = 'なぜ日本人は漢字を使うのか'\n",
    "page_url = \"https://google.com/search?q=\"+text\n",
    "driver_path = r'C:\\Users\\Clsm\\Documents\\GitHub\\test_files\\chromedriver.exe'"
   ]
  },
  {
   "cell_type": "code",
   "execution_count": 5,
   "metadata": {},
   "outputs": [
    {
     "name": "stdout",
     "output_type": "stream",
     "text": [
      "6333\n"
     ]
    }
   ],
   "source": [
    "driver = webdriver.Chrome(driver_path)\n",
    "driver.get(page_url)\n",
    "time.sleep(5)\n",
    "htmlContent = driver.page_source\n",
    "print(len(htmlContent))"
   ]
  },
  {
   "cell_type": "code",
   "execution_count": 6,
   "metadata": {},
   "outputs": [
    {
     "data": {
      "text/plain": [
       "<body onload=\"e=document.getElementById('captcha');if(e){e.focus();} if(solveSimpleChallenge) {solveSimpleChallenge(,);}\" style=\"font-family: arial, sans-serif; background-color: #fff; color: #000; padding:20px; font-size:18px;\">\n",
       "<div style=\"max-width:400px;\">\n",
       "<hr noshade=\"\" size=\"1\" style=\"color:#ccc; background-color:#ccc;\"/><br/>\n",
       "<form action=\"index\" id=\"captcha-form\" method=\"post\">\n",
       "<noscript>\n",
       "<div style=\"font-size:13px;\">\n",
       "  In order to continue, please enable javascript on your web browser.\n",
       "</div>\n",
       "</noscript>\n",
       "<script async=\"\" crossorigin=\"anonymous\" integrity=\"sha384-jffSm4FBmQyLvL1V8BXFUBdZCFkPLi8N+X9NGYs2YKU4uUiYzy53t/3mlwj1fdwI\" src=\"https://www.gstatic.com/recaptcha/releases/vpEprwpCoBMgy-fvZET0Mz6L/recaptcha__en.js\" type=\"text/javascript\"></script><script async=\"\" defer=\"\" src=\"https://www.google.com/recaptcha/api.js\"></script>\n",
       "<script>var submitCallback = function(response) {document.getElementById('captcha-form').submit();};</script>\n",
       "<div class=\"g-recaptcha\" data-callback=\"submitCallback\" data-s=\"LZKyIOqMLMPx6b2jroV4A-kBm0vLSI92Gi8sj53qy3z-t2RGVKBYLLGkYOr_NRIjVXaGljrTkI6kA2JBj2Ujyg_eMV8mNdT556dCXTEcmDEgLlZ0dug_mK5MbD8Sy_-VZYENBunBO0btNsqZrzdXugvXFjD6fVmTFb-dRA90NaqRHmn1DAqoJyuuWIPRhZOcPJ8nBu4MQvU82OcuL56ja1neCwu1GthNkV32sDUEhjc8SsTXZ9NLeR2IcrZerbdP3xxCx42zvYrxnM2NnXtWzYochwwLUyI\" data-sitekey=\"6LfwuyUTAAAAAOAmoS0fdqijC2PbbdH4kjq62Y1b\" id=\"recaptcha\"><div style=\"width: 304px; height: 78px;\"><div><iframe frameborder=\"0\" height=\"78\" name=\"a-7ci6gic3qgwj\" role=\"presentation\" sandbox=\"allow-forms allow-popups allow-same-origin allow-scripts allow-top-navigation allow-modals allow-popups-to-escape-sandbox\" scrolling=\"no\" src=\"https://www.google.com/recaptcha/api2/anchor?ar=1&amp;k=6LfwuyUTAAAAAOAmoS0fdqijC2PbbdH4kjq62Y1b&amp;co=aHR0cHM6Ly93d3cuZ29vZ2xlLmNvbTo0NDM.&amp;hl=en&amp;v=vpEprwpCoBMgy-fvZET0Mz6L&amp;size=normal&amp;s=LZKyIOqMLMPx6b2jroV4A-kBm0vLSI92Gi8sj53qy3z-t2RGVKBYLLGkYOr_NRIjVXaGljrTkI6kA2JBj2Ujyg_eMV8mNdT556dCXTEcmDEgLlZ0dug_mK5MbD8Sy_-VZYENBunBO0btNsqZrzdXugvXFjD6fVmTFb-dRA90NaqRHmn1DAqoJyuuWIPRhZOcPJ8nBu4MQvU82OcuL56ja1neCwu1GthNkV32sDUEhjc8SsTXZ9NLeR2IcrZerbdP3xxCx42zvYrxnM2NnXtWzYochwwLUyI&amp;cb=jpaw75fww1m0\" title=\"reCAPTCHA\" width=\"304\"></iframe></div><textarea class=\"g-recaptcha-response\" id=\"g-recaptcha-response\" name=\"g-recaptcha-response\" style=\"width: 250px; height: 40px; border: 1px solid rgb(193, 193, 193); margin: 10px 25px; padding: 0px; resize: none; display: none;\"></textarea></div><iframe style=\"display: none;\"></iframe></div>\n",
       "<input name=\"q\" type=\"hidden\" value=\"EgSpltpHGLrYmaEGIjDhB5eHcy6Xj7bWNmAzdQXZcectvGAPtu9uawRDtu1RP3kQsKMZdFmq6_TCSYxjC0cyAXI\"/><input name=\"continue\" type=\"hidden\" value=\"https://google.com/search?q=%E3%81%AA%E3%81%9C%E6%97%A5%E6%9C%AC%E4%BA%BA%E3%81%AF%E6%BC%A2%E5%AD%97%E3%82%92%E4%BD%BF%E3%81%86%E3%81%AE%E3%81%8B\"/>\n",
       "</form>\n",
       "<hr noshade=\"\" size=\"1\" style=\"color:#ccc; background-color:#ccc;\"/>\n",
       "<div style=\"font-size:13px;\">\n",
       "<b>About this page</b><br/><br/>\n",
       "\n",
       "Our systems have detected unusual traffic from your computer network.  This page checks to see if it's really you sending the requests, and not a robot.  <a href=\"#\" onclick=\"document.getElementById('infoDiv').style.display='block';\">Why did this happen?</a><br/><br/>\n",
       "<div id=\"infoDiv\" style=\"display:none; background-color:#eee; padding:10px; margin:0 0 15px 0; line-height:1.4em;\">\n",
       "This page appears when Google automatically detects requests coming from your computer network which appear to be in violation of the <a href=\"//www.google.com/policies/terms/\">Terms of Service</a>. The block will expire shortly after those requests stop.  In the meantime, solving the above CAPTCHA will let you continue to use our services.<br/><br/>This traffic may have been sent by malicious software, a browser plug-in, or a script that sends automated requests.  If you share your network connection, ask your administrator for help — a different computer using the same IP address may be responsible.  <a href=\"//support.google.com/websearch/answer/86640\">Learn more</a><br/><br/>Sometimes you may be asked to solve the CAPTCHA if you are using advanced terms that robots are known to use, or sending requests very quickly.\n",
       "</div>\n",
       "\n",
       "IP address: 169.150.218.71<br/>Time: 2023-03-31T05:14:35Z<br/>URL: https://google.com/search?q=%E3%81%AA%E3%81%9C%E6%97%A5%E6%9C%AC%E4%BA%BA%E3%81%AF%E6%BC%A2%E5%AD%97%E3%82%92%E4%BD%BF%E3%81%86%E3%81%AE%E3%81%8B<br/>\n",
       "</div>\n",
       "</div>\n",
       "<div style=\"background-color: rgb(255, 255, 255); border: 1px solid rgb(204, 204, 204); box-shadow: rgba(0, 0, 0, 0.2) 2px 2px 3px; position: absolute; transition: visibility 0s linear 0s, opacity 0.3s linear 0s; opacity: 1; visibility: visible; z-index: 2000000000; left: 79px; top: 10px;\"><div style=\"width: 100%; height: 100%; position: fixed; top: 0px; left: 0px; z-index: 2000000000; background-color: rgb(255, 255, 255); opacity: 0.05;\"></div><div class=\"g-recaptcha-bubble-arrow\" style=\"border-width: 11px; border-style: solid; border-color: transparent rgb(204, 204, 204) transparent transparent; border-image: initial; width: 0px; height: 0px; position: absolute; pointer-events: none; margin-top: -11px; z-index: 2000000000; top: 94.5px; right: 100%;\"></div><div class=\"g-recaptcha-bubble-arrow\" style=\"border-width: 10px; border-style: solid; border-color: transparent rgb(255, 255, 255) transparent transparent; border-image: initial; width: 0px; height: 0px; position: absolute; pointer-events: none; margin-top: -10px; z-index: 2000000000; top: 94.5px; right: 100%;\"></div><div style=\"z-index: 2000000000; position: relative; width: 381px; height: 561px;\"><iframe frameborder=\"0\" name=\"c-7ci6gic3qgwj\" sandbox=\"allow-forms allow-popups allow-same-origin allow-scripts allow-top-navigation allow-modals allow-popups-to-escape-sandbox\" scrolling=\"no\" src=\"https://www.google.com/recaptcha/api2/bframe?hl=en&amp;v=vpEprwpCoBMgy-fvZET0Mz6L&amp;k=6LfwuyUTAAAAAOAmoS0fdqijC2PbbdH4kjq62Y1b\" style=\"width: 381px; height: 561px;\" title=\"recaptcha challenge expires in two minutes\"></iframe></div></div></body>"
      ]
     },
     "execution_count": 6,
     "metadata": {},
     "output_type": "execute_result"
    }
   ],
   "source": [
    "soup = BeautifulSoup(htmlContent, 'html.parser')\n",
    "body = soup.find('body')\n",
    "body"
   ]
  },
  {
   "cell_type": "code",
   "execution_count": 7,
   "metadata": {},
   "outputs": [],
   "source": [
    "from html.parser import HTMLParser\n",
    "from urllib import parse\n",
    "class LinkFinder(HTMLParser):\n",
    "    def __init__(self, page_url) :\n",
    "        super().__init__()\n",
    "        self.page_url = page_url\n",
    "        self.links = list()\n",
    "    \n",
    "    def handle_starttag(self, attrs):\n",
    "        for attr in attrs:\n",
    "            for (attribute, value) in attr.items():\n",
    "                if 'https://' in value:\n",
    "                    if 'https://webcache.googleusercontent.com' in value:\n",
    "                        self.links.append(value)\n",
    "                \n",
    "                    elif 'google' not in value:\n",
    "                        self.links.append(value)  \n",
    "    def all_links(self, attrs):              \n",
    "        for attr in attrs:\n",
    "            for (attribute, value) in attr.items():\n",
    "                if 'https://' in value:\n",
    "                    self.links.append(value)\n",
    "\n",
    "    def error(self, message: str) -> str:\n",
    "        return super().error(message)\n",
    "    def find_pageurl(self):\n",
    "        return self.links"
   ]
  },
  {
   "cell_type": "code",
   "execution_count": 8,
   "metadata": {},
   "outputs": [
    {
     "name": "stdout",
     "output_type": "stream",
     "text": [
      "[{}, {}, {'http-equiv': 'content-type', 'content': 'text/html; charset=utf-8'}, {'name': 'viewport', 'content': 'initial-scale=1'}, {}, {'style': 'font-family: arial, sans-serif; background-color: #fff; color: #000; padding:20px; font-size:18px;', 'onload': \"e=document.getElementById('captcha');if(e){e.focus();} if(solveSimpleChallenge) {solveSimpleChallenge(,);}\"}, {'style': 'max-width:400px;'}, {'noshade': '', 'size': '1', 'style': 'color:#ccc; background-color:#ccc;'}, {}, {'id': 'captcha-form', 'action': 'index', 'method': 'post'}, {}, {'style': 'font-size:13px;'}, {'type': 'text/javascript', 'async': '', 'src': 'https://www.gstatic.com/recaptcha/releases/vpEprwpCoBMgy-fvZET0Mz6L/recaptcha__en.js', 'crossorigin': 'anonymous', 'integrity': 'sha384-jffSm4FBmQyLvL1V8BXFUBdZCFkPLi8N+X9NGYs2YKU4uUiYzy53t/3mlwj1fdwI'}, {'src': 'https://www.google.com/recaptcha/api.js', 'async': '', 'defer': ''}, {}, {'id': 'recaptcha', 'class': ['g-recaptcha'], 'data-sitekey': '6LfwuyUTAAAAAOAmoS0fdqijC2PbbdH4kjq62Y1b', 'data-callback': 'submitCallback', 'data-s': 'LZKyIOqMLMPx6b2jroV4A-kBm0vLSI92Gi8sj53qy3z-t2RGVKBYLLGkYOr_NRIjVXaGljrTkI6kA2JBj2Ujyg_eMV8mNdT556dCXTEcmDEgLlZ0dug_mK5MbD8Sy_-VZYENBunBO0btNsqZrzdXugvXFjD6fVmTFb-dRA90NaqRHmn1DAqoJyuuWIPRhZOcPJ8nBu4MQvU82OcuL56ja1neCwu1GthNkV32sDUEhjc8SsTXZ9NLeR2IcrZerbdP3xxCx42zvYrxnM2NnXtWzYochwwLUyI'}, {'style': 'width: 304px; height: 78px;'}, {}, {'title': 'reCAPTCHA', 'src': 'https://www.google.com/recaptcha/api2/anchor?ar=1&k=6LfwuyUTAAAAAOAmoS0fdqijC2PbbdH4kjq62Y1b&co=aHR0cHM6Ly93d3cuZ29vZ2xlLmNvbTo0NDM.&hl=en&v=vpEprwpCoBMgy-fvZET0Mz6L&size=normal&s=LZKyIOqMLMPx6b2jroV4A-kBm0vLSI92Gi8sj53qy3z-t2RGVKBYLLGkYOr_NRIjVXaGljrTkI6kA2JBj2Ujyg_eMV8mNdT556dCXTEcmDEgLlZ0dug_mK5MbD8Sy_-VZYENBunBO0btNsqZrzdXugvXFjD6fVmTFb-dRA90NaqRHmn1DAqoJyuuWIPRhZOcPJ8nBu4MQvU82OcuL56ja1neCwu1GthNkV32sDUEhjc8SsTXZ9NLeR2IcrZerbdP3xxCx42zvYrxnM2NnXtWzYochwwLUyI&cb=jpaw75fww1m0', 'width': '304', 'height': '78', 'role': 'presentation', 'name': 'a-7ci6gic3qgwj', 'frameborder': '0', 'scrolling': 'no', 'sandbox': ['allow-forms', 'allow-popups', 'allow-same-origin', 'allow-scripts', 'allow-top-navigation', 'allow-modals', 'allow-popups-to-escape-sandbox']}, {'id': 'g-recaptcha-response', 'name': 'g-recaptcha-response', 'class': ['g-recaptcha-response'], 'style': 'width: 250px; height: 40px; border: 1px solid rgb(193, 193, 193); margin: 10px 25px; padding: 0px; resize: none; display: none;'}, {'style': 'display: none;'}, {'type': 'hidden', 'name': 'q', 'value': 'EgSpltpHGLrYmaEGIjDhB5eHcy6Xj7bWNmAzdQXZcectvGAPtu9uawRDtu1RP3kQsKMZdFmq6_TCSYxjC0cyAXI'}, {'type': 'hidden', 'name': 'continue', 'value': 'https://google.com/search?q=%E3%81%AA%E3%81%9C%E6%97%A5%E6%9C%AC%E4%BA%BA%E3%81%AF%E6%BC%A2%E5%AD%97%E3%82%92%E4%BD%BF%E3%81%86%E3%81%AE%E3%81%8B'}, {'noshade': '', 'size': '1', 'style': 'color:#ccc; background-color:#ccc;'}, {'style': 'font-size:13px;'}, {}, {}, {}, {'href': '#', 'onclick': \"document.getElementById('infoDiv').style.display='block';\"}, {}, {}, {'id': 'infoDiv', 'style': 'display:none; background-color:#eee; padding:10px; margin:0 0 15px 0; line-height:1.4em;'}, {'href': '//www.google.com/policies/terms/'}, {}, {}, {'href': '//support.google.com/websearch/answer/86640'}, {}, {}, {}, {}, {}, {'style': 'background-color: rgb(255, 255, 255); border: 1px solid rgb(204, 204, 204); box-shadow: rgba(0, 0, 0, 0.2) 2px 2px 3px; position: absolute; transition: visibility 0s linear 0s, opacity 0.3s linear 0s; opacity: 1; visibility: visible; z-index: 2000000000; left: 79px; top: 10px;'}, {'style': 'width: 100%; height: 100%; position: fixed; top: 0px; left: 0px; z-index: 2000000000; background-color: rgb(255, 255, 255); opacity: 0.05;'}, {'class': ['g-recaptcha-bubble-arrow'], 'style': 'border-width: 11px; border-style: solid; border-color: transparent rgb(204, 204, 204) transparent transparent; border-image: initial; width: 0px; height: 0px; position: absolute; pointer-events: none; margin-top: -11px; z-index: 2000000000; top: 94.5px; right: 100%;'}, {'class': ['g-recaptcha-bubble-arrow'], 'style': 'border-width: 10px; border-style: solid; border-color: transparent rgb(255, 255, 255) transparent transparent; border-image: initial; width: 0px; height: 0px; position: absolute; pointer-events: none; margin-top: -10px; z-index: 2000000000; top: 94.5px; right: 100%;'}, {'style': 'z-index: 2000000000; position: relative; width: 381px; height: 561px;'}, {'title': 'recaptcha challenge expires in two minutes', 'src': 'https://www.google.com/recaptcha/api2/bframe?hl=en&v=vpEprwpCoBMgy-fvZET0Mz6L&k=6LfwuyUTAAAAAOAmoS0fdqijC2PbbdH4kjq62Y1b', 'name': 'c-7ci6gic3qgwj', 'frameborder': '0', 'scrolling': 'no', 'sandbox': ['allow-forms', 'allow-popups', 'allow-same-origin', 'allow-scripts', 'allow-top-navigation', 'allow-modals', 'allow-popups-to-escape-sandbox'], 'style': 'width: 381px; height: 561px;'}]\n"
     ]
    }
   ],
   "source": [
    "tag = [tag for tag in soup.findAll()]\n",
    "attrs = list()\n",
    "for t in tag:\n",
    "    attrs.append(t.attrs)\n",
    "print(attrs)"
   ]
  },
  {
   "cell_type": "code",
   "execution_count": 9,
   "metadata": {},
   "outputs": [],
   "source": [
    "finder = LinkFinder(page_url=page_url)\n",
    "finder.handle_starttag(attrs=attrs)"
   ]
  },
  {
   "cell_type": "code",
   "execution_count": 10,
   "metadata": {},
   "outputs": [
    {
     "name": "stdout",
     "output_type": "stream",
     "text": [
      "['https://www.gstatic.com/recaptcha/releases/vpEprwpCoBMgy-fvZET0Mz6L/recaptcha__en.js']\n"
     ]
    }
   ],
   "source": [
    "print(finder.find_pageurl())"
   ]
  },
  {
   "cell_type": "code",
   "execution_count": 11,
   "metadata": {},
   "outputs": [],
   "source": [
    "finder.all_links(attrs = attrs)\n",
    "all_links_list = finder.find_pageurl()"
   ]
  },
  {
   "cell_type": "code",
   "execution_count": 18,
   "metadata": {},
   "outputs": [],
   "source": [
    "import tldextract\n",
    "import re\n",
    "def check_cache(all_link_list):\n",
    "    actual_from_cache = []\n",
    "    webcache_list = []\n",
    "    cache_name = 'www'\n",
    "    \n",
    "    # check url http:// or https:// or www. or domain\n",
    "    url_valid_regex = r'(?:(?:https?|ftp):\\/\\/)?[\\w]+\\.[\\w/\\-&?=%.]+'\n",
    "    actual_regex = r'(http[s]?.*|www.*){2}'\n",
    "    \n",
    "    # check url starting http://domain or https://domain\n",
    "#     url_valid_regex = 'http[s]?://(?:[a-zA-Z]|[0-9]|[$-_@.&+]|[!*\\(\\), ]|(?:%[0-9a-fA-F][0-9a-fA-F]))+' \n",
    "    \n",
    "    for url in all_link_list:\n",
    "        \n",
    "        url_extractor = tldextract.extract(url)\n",
    "        is_url_valid = re.findall(url_valid_regex, url)\n",
    "        \n",
    "        if is_url_valid and url_extractor.subdomain == cache_name:\n",
    "            webcache_list.append(url)\n",
    "            is_actual_from_cache = re.findall(actual_regex, url)\n",
    "            if is_actual_from_cache:\n",
    "                actual_from_cache.append(is_actual_from_cache[0].split('+')[0])\n",
    "    \n",
    "    print(f'Total webcache links: {len(webcache_list)}')\n",
    "    print('Total links: ', len(all_link_list))\n",
    "    return webcache_list, actual_from_cache"
   ]
  },
  {
   "cell_type": "code",
   "execution_count": 19,
   "metadata": {},
   "outputs": [
    {
     "name": "stdout",
     "output_type": "stream",
     "text": [
      "Total webcache links: 5\n",
      "Total links:  6\n",
      "(['https://www.gstatic.com/recaptcha/releases/vpEprwpCoBMgy-fvZET0Mz6L/recaptcha__en.js', 'https://www.gstatic.com/recaptcha/releases/vpEprwpCoBMgy-fvZET0Mz6L/recaptcha__en.js', 'https://www.google.com/recaptcha/api.js', 'https://www.google.com/recaptcha/api2/anchor?ar=1&k=6LfwuyUTAAAAAOAmoS0fdqijC2PbbdH4kjq62Y1b&co=aHR0cHM6Ly93d3cuZ29vZ2xlLmNvbTo0NDM.&hl=en&v=vpEprwpCoBMgy-fvZET0Mz6L&size=normal&s=LZKyIOqMLMPx6b2jroV4A-kBm0vLSI92Gi8sj53qy3z-t2RGVKBYLLGkYOr_NRIjVXaGljrTkI6kA2JBj2Ujyg_eMV8mNdT556dCXTEcmDEgLlZ0dug_mK5MbD8Sy_-VZYENBunBO0btNsqZrzdXugvXFjD6fVmTFb-dRA90NaqRHmn1DAqoJyuuWIPRhZOcPJ8nBu4MQvU82OcuL56ja1neCwu1GthNkV32sDUEhjc8SsTXZ9NLeR2IcrZerbdP3xxCx42zvYrxnM2NnXtWzYochwwLUyI&cb=jpaw75fww1m0', 'https://www.google.com/recaptcha/api2/bframe?hl=en&v=vpEprwpCoBMgy-fvZET0Mz6L&k=6LfwuyUTAAAAAOAmoS0fdqijC2PbbdH4kjq62Y1b'], ['www.gstatic.com/recaptcha/releases/vpEprwpCoBMgy-fvZET0Mz6L/recaptcha__en.js', 'www.gstatic.com/recaptcha/releases/vpEprwpCoBMgy-fvZET0Mz6L/recaptcha__en.js', 'www.google.com/recaptcha/api.js', 'www.google.com/recaptcha/api2/anchor?ar=1&k=6LfwuyUTAAAAAOAmoS0fdqijC2PbbdH4kjq62Y1b&co=aHR0cHM6Ly93d3cuZ29vZ2xlLmNvbTo0NDM.&hl=en&v=vpEprwpCoBMgy-fvZET0Mz6L&size=normal&s=LZKyIOqMLMPx6b2jroV4A-kBm0vLSI92Gi8sj53qy3z-t2RGVKBYLLGkYOr_NRIjVXaGljrTkI6kA2JBj2Ujyg_eMV8mNdT556dCXTEcmDEgLlZ0dug_mK5MbD8Sy_-VZYENBunBO0btNsqZrzdXugvXFjD6fVmTFb-dRA90NaqRHmn1DAqoJyuuWIPRhZOcPJ8nBu4MQvU82OcuL56ja1neCwu1GthNkV32sDUEhjc8SsTXZ9NLeR2IcrZerbdP3xxCx42zvYrxnM2NnXtWzYochwwLUyI&cb=jpaw75fww1m0', 'www.google.com/recaptcha/api2/bframe?hl=en&v=vpEprwpCoBMgy-fvZET0Mz6L&k=6LfwuyUTAAAAAOAmoS0fdqijC2PbbdH4kjq62Y1b'])\n"
     ]
    }
   ],
   "source": [
    "print(check_cache(all_links_list))"
   ]
  }
 ],
 "metadata": {
  "kernelspec": {
   "display_name": "Python 3",
   "language": "python",
   "name": "python3"
  },
  "language_info": {
   "codemirror_mode": {
    "name": "ipython",
    "version": 3
   },
   "file_extension": ".py",
   "mimetype": "text/x-python",
   "name": "python",
   "nbconvert_exporter": "python",
   "pygments_lexer": "ipython3",
   "version": "3.8.10"
  },
  "orig_nbformat": 4
 },
 "nbformat": 4,
 "nbformat_minor": 2
}
