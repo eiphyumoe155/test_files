{
 "cells": [
  {
   "cell_type": "code",
   "execution_count": 15,
   "metadata": {},
   "outputs": [],
   "source": [
    "import requests\n",
    "import json, re\n",
    "import openai\n",
    "import six\n",
    "import os\n",
    "from xlwt import Workbook\n",
    "import os"
   ]
  },
  {
   "cell_type": "code",
   "execution_count": 16,
   "metadata": {},
   "outputs": [],
   "source": [
    "os.environ['GOOGLE_APPLICATION_CREDENTIALS'] = r'C:\\Users\\Clsm\\Documents\\GitHub\\telerehab_ai\\credentials\\serviceAccount.json'"
   ]
  },
  {
   "cell_type": "code",
   "execution_count": 19,
   "metadata": {},
   "outputs": [],
   "source": [
    "def call_OpenAI_api(keyword_section):\n",
    "\n",
    "    os.environ[\"OPENAI_API_KEY\"] = \"sk-IwRojhxCotue0iFx0eXDnCZJNSatfk8tYS8d5KUc\"\n",
    "    openai.api_key = os.getenv(\"OPENAI_API_KEY\")\n",
    "    OpenAI_prefix = \"Generate keywords from:\"\n",
    "    input_text = __truncate_text(keyword_section, max_len=512)\n",
    "    input_text = OpenAI_prefix + input_text \n",
    "    \n",
    "    response = openai.Completion.create(\n",
    "        \n",
    "        engine=\"text-davinci-003\",\n",
    "        prompt= input_text,\n",
    "        temperature=0.3,\n",
    "        max_tokens=60,\n",
    "        top_p=1,\n",
    "        frequency_penalty=0,\n",
    "        presence_penalty=0\n",
    "    )\n",
    "\n",
    "    rewritten_text = response[\"choices\"][0][\"text\"].strip() \n",
    "    list_clean_rewritten_texts = __clean_rewritten_text_v2(rewritten_text)\n",
    "    list_clean_rewritten_texts = re.sub(r'\\s+', ' ', list_clean_rewritten_texts).strip()\n",
    "\n",
    "    return list_clean_rewritten_texts\n",
    "\n",
    "def __truncate_text( text: str, max_len: int = 5120) -> str:\n",
    "    if len(text) >= max_len:\n",
    "        text = text[:max_len]\n",
    "    return text\n",
    "\n",
    "def __clean_rewritten_text_v2(text: str) -> str:\n",
    "    text = text.replace('translation:','sentence:')\n",
    "    text = text.replace('rewrite sentence.', '')\n",
    "    text = text.replace('Before execution:', '')\n",
    "    text = text.replace(\"Perform paraphrase\", \"\")\n",
    "    if \"sentence:\" in text:\n",
    "        return text.split(\"sentence:\")[1].strip()\n",
    "    else:\n",
    "        return text.strip()\n"
   ]
  },
  {
   "cell_type": "code",
   "execution_count": 20,
   "metadata": {},
   "outputs": [],
   "source": [
    "summarize_txt= \"Captain Jack Sparrow is a fictional character and the main protagonist of the Pirates of the Caribbean film series. The character was created by screenwriters Ted Elliott and Terry Rossio and is portrayed by Johnny Depp\""
   ]
  },
  {
   "cell_type": "code",
   "execution_count": 21,
   "metadata": {},
   "outputs": [
    {
     "data": {
      "text/plain": [
       "'1. Captain Jack Sparrow 2. Pirates of the Caribbean 3. Johnny Depp 4. Ted Elliott 5. Terry Rossio 6. Fictional Character 7. Main Protagonist 8. Film Series 9. Screenwriters'"
      ]
     },
     "execution_count": 21,
     "metadata": {},
     "output_type": "execute_result"
    }
   ],
   "source": [
    "rewrite_txt = call_OpenAI_api(summarize_txt)\n",
    "rewrite_txt"
   ]
  }
 ],
 "metadata": {
  "kernelspec": {
   "display_name": "Python 3",
   "language": "python",
   "name": "python3"
  },
  "language_info": {
   "codemirror_mode": {
    "name": "ipython",
    "version": 3
   },
   "file_extension": ".py",
   "mimetype": "text/x-python",
   "name": "python",
   "nbconvert_exporter": "python",
   "pygments_lexer": "ipython3",
   "version": "3.8.10"
  },
  "orig_nbformat": 4
 },
 "nbformat": 4,
 "nbformat_minor": 2
}
