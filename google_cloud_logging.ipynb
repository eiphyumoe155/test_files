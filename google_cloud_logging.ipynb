{
 "cells": [
  {
   "cell_type": "code",
   "execution_count": 8,
   "metadata": {},
   "outputs": [
    {
     "name": "stdout",
     "output_type": "stream",
     "text": [
      "Logged: Hello World\n"
     ]
    }
   ],
   "source": [
    "# Imports the Google Cloud client library\n",
    "from google.cloud import logging\n",
    "\n",
    "logging_client = logging.Client()\n",
    "log_name = 'my_log'\n",
    "logger = logging_client.logger(log_name)\n",
    "text = 'Hello World'\n",
    "logger.log_text(text)\n",
    "print(\"Logged: {}\".format(text))\n"
   ]
  },
  {
   "cell_type": "code",
   "execution_count": 9,
   "metadata": {},
   "outputs": [],
   "source": [
    "def write_entry(logger_name):\n",
    "    \"\"\"Writes log entries to the given logger.\"\"\"\n",
    "    logging_client = logging.Client()\n",
    "\n",
    "    # This log can be found in the Cloud Logging console under 'Custom Logs'.\n",
    "    logger = logging_client.logger(logger_name)\n",
    "\n",
    "    # Make a simple text log\n",
    "    logger.log_text(\"Hello, world!\")\n",
    "\n",
    "    # Simple text log with severity.\n",
    "    logger.log_text(\"Goodbye, world!\", severity=\"ERROR\")\n",
    "\n",
    "    # Struct log. The struct can be any JSON-serializable dictionary.\n",
    "    logger.log_struct(\n",
    "        {\n",
    "            \"name\": \"King Arthur\",\n",
    "            \"quest\": \"Find the Holy Grail\",\n",
    "            \"favorite_color\": \"Blue\",\n",
    "        }\n",
    "    )\n",
    "\n",
    "    print(\"Wrote logs to {}.\".format(logger.name))\n"
   ]
  },
  {
   "cell_type": "code",
   "execution_count": 10,
   "metadata": {},
   "outputs": [
    {
     "name": "stdout",
     "output_type": "stream",
     "text": [
      "Wrote logs to test.\n"
     ]
    }
   ],
   "source": [
    "write_entry(\"test\")"
   ]
  }
 ],
 "metadata": {
  "kernelspec": {
   "display_name": "Python 3",
   "language": "python",
   "name": "python3"
  },
  "language_info": {
   "codemirror_mode": {
    "name": "ipython",
    "version": 3
   },
   "file_extension": ".py",
   "mimetype": "text/x-python",
   "name": "python",
   "nbconvert_exporter": "python",
   "pygments_lexer": "ipython3",
   "version": "3.8.10"
  },
  "orig_nbformat": 4
 },
 "nbformat": 4,
 "nbformat_minor": 2
}
