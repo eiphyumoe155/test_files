{
 "cells": [
  {
   "cell_type": "code",
   "execution_count": 1,
   "metadata": {},
   "outputs": [],
   "source": [
    "import re\n",
    "def remove(str_list):\n",
    "    pattern = '^[0-9]|[0-9]+'\n",
    "    str_list = [re.sub(pattern, '', i) for i in str_list]\n",
    "    str_list = [re.sub('^[!|-|?|.]','',i) for i in str_list]\n",
    "    str_list = [re.sub('\\n','',i) for i in str_list]\n",
    "    str_list = [re.sub(r'\\s+', ' ', i).strip() for i in str_list] # cleaning whitespace\n",
    "    return str_list"
   ]
  },
  {
   "cell_type": "code",
   "execution_count": 2,
   "metadata": {},
   "outputs": [],
   "source": [
    "punctuations = r'''\\.．、：）- <>./@#$%^&*_~「」【】'''\n",
    "def remove_punctuation(str_list):\n",
    "    result = []\n",
    "    \n",
    "    for line in str_list:\n",
    "        for x in line:\n",
    "            if x in punctuations: \n",
    "                line = line.replace(x, \"\")\n",
    "        result.append(line)\n",
    "    return result"
   ]
  },
  {
   "cell_type": "code",
   "execution_count": 3,
   "metadata": {},
   "outputs": [],
   "source": [
    "#remove ❶, １ and etc.\n",
    "def remove_emoji(str_list):\n",
    "    emoji_pattern = re.compile(\"[\"\n",
    "                           u\"\\u24FF-\\u277E\"  \n",
    "                           u\"\\uFF10-\\uFF19\"  \n",
    "                           u\"\\u2460-\\u2468\"  \n",
    "                           \"]+\", flags=re.UNICODE)\n",
    "    emoji_pattern = [re.sub(emoji_pattern, '', i) for i in str_list]\n",
    "    return emoji_pattern"
   ]
  },
  {
   "cell_type": "code",
   "execution_count": 4,
   "metadata": {},
   "outputs": [],
   "source": [
    "result = []\n",
    "punc_1 = r'^[^:-]*[^\\s+]*'\n",
    "def remove_duplicate(str_list):\n",
    "    for line in str_list:\n",
    "        i = re.sub(punc_1, '', line)\n",
    "        result.append(i)\n",
    "    return result"
   ]
  },
  {
   "cell_type": "code",
   "execution_count": 5,
   "metadata": {},
   "outputs": [],
   "source": [
    "text = [\n",
    "        \"\\n\\nスネーカーブーツスポーツ：世界的なファッショントレンド\",\n",
    "        \"\\n\\n日本語：2. スネーカーブーツトレンドを世界に広げる\",\n",
    "        \"\\n\\nスポーツとスニーカーブーツ：グローバルファッションのフェノメノン\",\n",
    "        \"\\n\\n最新のスネーカーブーツスポーツファッションワールドワイド\",\n",
    "        \"\\n\\n世界的なファッショントレンドにスニーカーブーツをフィーチャー\"\n",
    "    ]"
   ]
  },
  {
   "cell_type": "code",
   "execution_count": 6,
   "metadata": {},
   "outputs": [
    {
     "data": {
      "text/plain": [
       "['スネーカーブーツスポーツ世界的なファッショントレンド',\n",
       " '日本語スネーカーブーツトレンドを世界に広げる',\n",
       " 'スポーツとスニーカーブーツグローバルファッションのフェノメノン',\n",
       " '最新のスネーカーブーツスポーツファッションワールドワイド',\n",
       " '世界的なファッショントレンドにスニーカーブーツをフィーチャー']"
      ]
     },
     "execution_count": 6,
     "metadata": {},
     "output_type": "execute_result"
    }
   ],
   "source": [
    "result = remove_punctuation(text)\n",
    "result = remove_emoji(result)\n",
    "result = remove(result)\n",
    "result "
   ]
  },
  {
   "cell_type": "code",
   "execution_count": null,
   "metadata": {},
   "outputs": [],
   "source": [
    "char_path = r'C:\\Users\\Clsm\\Desktop\\Test files\\number_char.txt'\n",
    "txt_file = open(char_path, 'r', encoding='utf-8')\n",
    "char_list = txt_file.read().split('\\n')  \n",
    "char_array = []\n",
    "\n",
    "def get_numbering_patterns():     \n",
    "    for char in char_list:\n",
    "        dummy_list = char.split('=')\n",
    "        char_array.append(dummy_list[1])\n",
    "    return char_array\n",
    "\n",
    "def remove_specialchar_in_title(text):\n",
    "\n",
    "    char_re = get_numbering_patterns()\n",
    "    for line in text_list:\n",
    "        for i in char_re:\n",
    "            # Cleaning the whitespaces in num_char text file\n",
    "            i = re.sub(r'\\s+', ' ', i).strip()\n",
    "            line = re.sub(i, '', line, count=1)\n",
    "        result.append(line)\n",
    "    return result"
   ]
  },
  {
   "cell_type": "code",
   "execution_count": 206,
   "metadata": {},
   "outputs": [
    {
     "name": "stdout",
     "output_type": "stream",
     "text": [
      "<re.Match object; span=(0, 24), match='ブリーチな しでも理想のヘアカラーに  できるの'>\n",
      "<re.Match object; span=(0, 10), match='ブリーチなしで理想 '>\n",
      "<re.Match object; span=(0, 10), match='初めてカラーさんに試'>\n",
      "<re.Match object; span=(0, 12), match='ブリーチなしカラーをチ '>\n"
     ]
    }
   ],
   "source": [
    "import re\n",
    "test_str = [\"ブリーチな しでも理想のヘアカラーに  できるの\",\n",
    "\"ブリーチなしで理想 : のヘ アカラーを叶える :  オーダーポイント\",\n",
    "\"初めてカラーさんに試:  して ほしい、おすすめ8大ヘアカラーサンプル\",\n",
    "\"ブリーチなしカラーをチ :  ェックして、理想的な髪色に！\"]\n",
    "result = []\n",
    "#punc = r'^[^:]*[^\\s+]'\n",
    "#punc = r'\\w.*:'\n",
    "punc = r'(?<=:).*'\n",
    "def remove_duplicate(test_str):\n",
    "    for line in test_str:\n",
    "        i = re.match(punc,line)\n",
    "        if i:\n",
    "            #i = re.sub(punc, '', line)\n",
    "            print(i)\n",
    "    #return result\n",
    "\n",
    "punc1 = r'\\w.*:'\n",
    "def remove(test_str):\n",
    "    for line in test_str:\n",
    "        i = re.match(punc1,line)\n",
    "        if i:\n",
    "            print(i)\n",
    "remove_duplicate(test_str)\n"
   ]
  },
  {
   "cell_type": "code",
   "execution_count": 1,
   "metadata": {},
   "outputs": [
    {
     "name": "stdout",
     "output_type": "stream",
     "text": [
      "['ブリーチな しでも理想のヘアカラーに  できるの', ' のヘ アカラーを叶える :  オーダーポイント', '  して ほしい、おすすめ8大ヘアカラーサンプル', '  ェックして、理想的な髪色に！']\n"
     ]
    }
   ],
   "source": [
    "import re\n",
    "test_str = [\"ブリーチな しでも理想のヘアカラーに  できるの\",\n",
    "\"ブリーチなしで理想 : のヘ アカラーを叶える :  オーダーポイント\",\n",
    "\"初めてカラーさんに試:  して ほしい、おすすめ8大ヘアカラーサンプル\",\n",
    "\"ブリーチなしカラーをチ :  ェックして、理想的な髪色に！\"]\n",
    "result = []\n",
    "def remove_duplicate(test_str):\n",
    "    for line in test_str:\n",
    "        m = re.search(r'(?<=:).*', line)\n",
    "        if m:\n",
    "            result.append(m.group(0))\n",
    "        else:\n",
    "            result.append(line)\n",
    "    return result\n",
    "print(remove_duplicate(test_str))"
   ]
  },
  {
   "cell_type": "code",
   "execution_count": 31,
   "metadata": {},
   "outputs": [],
   "source": [
    "from collections import defaultdict\n",
    "def remove_one_bracket_in_text(text:str) -> str:\n",
    "    \"\"\"\n",
    "    list_character : [couple bracket]\n",
    "    input : \"【 tr Python】き出し【たい正規」表現き出「き出」\" \n",
    "    we replace 【 , 」\n",
    "    out_put  : \" 【 tr Python】き出したい正規表現き出「き出」\"\n",
    "    \"\"\"\n",
    "\n",
    "    list_character = [ (\"【\",\"】\") ,(\"「\",\"」\")]\n",
    "\n",
    "    dict_temp = defaultdict(str)\n",
    "\n",
    "    #Loop all brackets\n",
    "    for _character in list_character:\n",
    "        _pattern = f\"(?<=\\{_character[0]}).+?(?=\\{_character[1]})\"\n",
    "\n",
    "        #Replace text inside brackets to temp text and save it to dict\n",
    "        for idx,inside_text in enumerate(re.findall(_pattern, text)):\n",
    "            _temp_text = f\"{_character[0]}{inside_text}{_character[1]}\"\n",
    "            _temp_key = f\"__X{idx}X__\"\n",
    "            dict_temp[_temp_key] = _temp_text\n",
    "            text = text.replace(_temp_text,_temp_key)\n",
    "\n",
    "        #Check and replace brackets exist after replace\n",
    "        text = re.sub(f\"\\{_character[0]}|\\{_character[1]}\", \"\", text)\n",
    "\n",
    "        #return temp text before\n",
    "        for key_rep,text_rep in dict_temp.items():\n",
    "            text = text.replace(key_rep, text_rep)\n",
    "    \n",
    "    return text"
   ]
  },
  {
   "cell_type": "code",
   "execution_count": 32,
   "metadata": {},
   "outputs": [
    {
     "name": "stdout",
     "output_type": "stream",
     "text": [
      "【 tr Python】き出したい正規表現き出「き出」\n"
     ]
    }
   ],
   "source": [
    "text = '【 tr Python】き出し【たい正規」表現き出「き出」'\n",
    "print(remove_one_bracket_in_text(text))"
   ]
  },
  {
   "cell_type": "code",
   "execution_count": 38,
   "metadata": {},
   "outputs": [
    {
     "name": "stdout",
     "output_type": "stream",
     "text": [
      "【 tr Python】き出したい正規」表現き出「き出」\n",
      "【 tr Python】き出したい正規表現き出「き出」\n"
     ]
    }
   ],
   "source": [
    "list_character = [ (\"【\",\"】\") ,(\"「\",\"」\")]\n",
    "text = '【 tr Python】き出し【たい正規」表現き出「き出」'\n",
    "dict_temp = defaultdict(str)\n",
    "\n",
    "#Loop all brackets\n",
    "for _character in list_character:\n",
    "    _pattern = f\"(?<=\\{_character[0]}).+?(?=\\{_character[1]})\"\n",
    "\n",
    "    #Replace text inside brackets to temp text and save it to dict\n",
    "    for idx,inside_text in enumerate(re.findall(_pattern, text)):\n",
    "        _temp_text = f\"{_character[0]}{inside_text}{_character[1]}\"\n",
    "        _temp_key = f\"__X{idx}X__\"\n",
    "        dict_temp[_temp_key] = _temp_text\n",
    "        text = text.replace(_temp_text,_temp_key)\n",
    "    \n",
    "\n",
    "    #Check and replace brackets exist after replace\n",
    "    text = re.sub(f\"\\{_character[0]}|\\{_character[1]}\", \"\", text)\n",
    "    #print(text)\n",
    "    #return temp text before\n",
    "    for key_rep,text_rep in dict_temp.items():\n",
    "        text = text.replace(key_rep, text_rep)\n",
    "    print(text)"
   ]
  },
  {
   "cell_type": "code",
   "execution_count": 18,
   "metadata": {},
   "outputs": [
    {
     "name": "stdout",
     "output_type": "stream",
     "text": [
      "[(10, 20, 30)]\n"
     ]
    }
   ],
   "source": [
    "lst1 = [10,20,30,40,50]\n",
    "ele = [x for x in zip(*[iter(lst1)]*3)]\n",
    "print(ele)\n"
   ]
  },
  {
   "cell_type": "code",
   "execution_count": null,
   "metadata": {},
   "outputs": [],
   "source": [
    "def list_to_text(fname,item_list):\n",
    "    text_file = open(fname, 'w', encoding='utf-8')\n",
    "    for i in item_list:\n",
    "        text_file.write(i + '\\n')\n",
    "    text_file.close()"
   ]
  }
 ],
 "metadata": {
  "kernelspec": {
   "display_name": "Python 3",
   "language": "python",
   "name": "python3"
  },
  "language_info": {
   "codemirror_mode": {
    "name": "ipython",
    "version": 3
   },
   "file_extension": ".py",
   "mimetype": "text/x-python",
   "name": "python",
   "nbconvert_exporter": "python",
   "pygments_lexer": "ipython3",
   "version": "3.8.10"
  },
  "orig_nbformat": 4
 },
 "nbformat": 4,
 "nbformat_minor": 2
}
