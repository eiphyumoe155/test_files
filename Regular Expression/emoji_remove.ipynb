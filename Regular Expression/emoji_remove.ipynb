{
 "cells": [
  {
   "cell_type": "code",
   "execution_count": 85,
   "metadata": {},
   "outputs": [
    {
     "name": "stdout",
     "output_type": "stream",
     "text": [
      "['ストレスの影響', 'ストレスは健康に影響を与える']\n"
     ]
    }
   ],
   "source": [
    "import re\n",
    "text = ['【1】ストレスの影響 ', '12ストレスは健康に影響を与える11 ']\n",
    "text = [re.sub('[0-9]+', '', i) for i in text]\n",
    "\n",
    "r = []\n",
    "for line in text:\n",
    "    result = ''\n",
    " \n",
    "    for i in line:\n",
    "        if i.isalnum():\n",
    "            result += i\n",
    "    r.append(result)\n",
    "#normal_string=\"\".join(ch for ch in text if ch.isalnum())\n",
    "print(r)"
   ]
  },
  {
   "cell_type": "code",
   "execution_count": 86,
   "metadata": {},
   "outputs": [],
   "source": [
    "def remove_emoji(string):\n",
    "    emoji_pattern = re.compile(\"[\"\n",
    "                           u\"\\u24FF-\\u277E\"  \n",
    "                           u\"\\uFF10-\\uFF19\"  \n",
    "                           u\"\\u2460-\\u2468\"  \n",
    "                           \"]+\", flags=re.UNICODE)\n",
    "    return emoji_pattern.sub(r'', string)"
   ]
  },
  {
   "cell_type": "code",
   "execution_count": 90,
   "metadata": {},
   "outputs": [
    {
     "name": "stdout",
     "output_type": "stream",
     "text": [
      "）淡水の現状についての理解\n"
     ]
    }
   ],
   "source": [
    "print(remove_emoji('１）淡水の現状についての理解'))"
   ]
  },
  {
   "cell_type": "code",
   "execution_count": null,
   "metadata": {},
   "outputs": [],
   "source": []
  }
 ],
 "metadata": {
  "kernelspec": {
   "display_name": "Python 3",
   "language": "python",
   "name": "python3"
  },
  "language_info": {
   "codemirror_mode": {
    "name": "ipython",
    "version": 3
   },
   "file_extension": ".py",
   "mimetype": "text/x-python",
   "name": "python",
   "nbconvert_exporter": "python",
   "pygments_lexer": "ipython3",
   "version": "3.8.10"
  },
  "orig_nbformat": 4
 },
 "nbformat": 4,
 "nbformat_minor": 2
}
